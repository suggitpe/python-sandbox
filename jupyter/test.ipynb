{
 "cells": [
  {
   "metadata": {},
   "cell_type": "markdown",
   "source": "",
   "id": "3d0af0858cc0f765"
  },
  {
   "metadata": {},
   "cell_type": "markdown",
   "source": [
    "# Test notebook\n",
    "This is a test notebook to show how to open and visualise data from a data source\n"
   ],
   "id": "7d8ea211c0c60386"
  },
  {
   "metadata": {
    "ExecuteTime": {
     "end_time": "2024-08-14T06:51:12.170881Z",
     "start_time": "2024-08-14T06:51:12.166740Z"
    }
   },
   "cell_type": "code",
   "source": [
    "import pandas as pd\n",
    "import matplotlib.pyplot as plt\n",
    "import seaborn as sns\n",
    "sns.set_style(\"darkgrid\")"
   ],
   "id": "16b913c3ec8f246b",
   "outputs": [],
   "execution_count": 155
  },
  {
   "metadata": {},
   "cell_type": "markdown",
   "source": [
    "## Import and check the data\n",
    "Import the data from a local file and reset the column names"
   ],
   "id": "d49b07f81111f8af"
  },
  {
   "metadata": {
    "ExecuteTime": {
     "end_time": "2024-08-14T06:51:12.251308Z",
     "start_time": "2024-08-14T06:51:12.226037Z"
    }
   },
   "cell_type": "code",
   "source": [
    "df = pd.read_csv('fortune500.csv')\n",
    "df.columns = ['year', 'rank', 'company', 'revenue', 'profit']"
   ],
   "id": "94850d6d383ea18",
   "outputs": [],
   "execution_count": 156
  },
  {
   "metadata": {},
   "cell_type": "markdown",
   "source": "Head and tail the file",
   "id": "7f1f23520d50a14"
  },
  {
   "metadata": {
    "ExecuteTime": {
     "end_time": "2024-08-14T06:51:12.262788Z",
     "start_time": "2024-08-14T06:51:12.253119Z"
    }
   },
   "cell_type": "code",
   "source": "df.head()",
   "id": "f7e842a28241ce65",
   "outputs": [
    {
     "data": {
      "text/plain": [
       "   year  rank           company  revenue profit\n",
       "0  1955     1    General Motors   9823.5    806\n",
       "1  1955     2       Exxon Mobil   5661.4  584.8\n",
       "2  1955     3        U.S. Steel   3250.4  195.4\n",
       "3  1955     4  General Electric   2959.1  212.6\n",
       "4  1955     5            Esmark   2510.8   19.1"
      ],
      "text/html": [
       "<div>\n",
       "<style scoped>\n",
       "    .dataframe tbody tr th:only-of-type {\n",
       "        vertical-align: middle;\n",
       "    }\n",
       "\n",
       "    .dataframe tbody tr th {\n",
       "        vertical-align: top;\n",
       "    }\n",
       "\n",
       "    .dataframe thead th {\n",
       "        text-align: right;\n",
       "    }\n",
       "</style>\n",
       "<table border=\"1\" class=\"dataframe\">\n",
       "  <thead>\n",
       "    <tr style=\"text-align: right;\">\n",
       "      <th></th>\n",
       "      <th>year</th>\n",
       "      <th>rank</th>\n",
       "      <th>company</th>\n",
       "      <th>revenue</th>\n",
       "      <th>profit</th>\n",
       "    </tr>\n",
       "  </thead>\n",
       "  <tbody>\n",
       "    <tr>\n",
       "      <th>0</th>\n",
       "      <td>1955</td>\n",
       "      <td>1</td>\n",
       "      <td>General Motors</td>\n",
       "      <td>9823.5</td>\n",
       "      <td>806</td>\n",
       "    </tr>\n",
       "    <tr>\n",
       "      <th>1</th>\n",
       "      <td>1955</td>\n",
       "      <td>2</td>\n",
       "      <td>Exxon Mobil</td>\n",
       "      <td>5661.4</td>\n",
       "      <td>584.8</td>\n",
       "    </tr>\n",
       "    <tr>\n",
       "      <th>2</th>\n",
       "      <td>1955</td>\n",
       "      <td>3</td>\n",
       "      <td>U.S. Steel</td>\n",
       "      <td>3250.4</td>\n",
       "      <td>195.4</td>\n",
       "    </tr>\n",
       "    <tr>\n",
       "      <th>3</th>\n",
       "      <td>1955</td>\n",
       "      <td>4</td>\n",
       "      <td>General Electric</td>\n",
       "      <td>2959.1</td>\n",
       "      <td>212.6</td>\n",
       "    </tr>\n",
       "    <tr>\n",
       "      <th>4</th>\n",
       "      <td>1955</td>\n",
       "      <td>5</td>\n",
       "      <td>Esmark</td>\n",
       "      <td>2510.8</td>\n",
       "      <td>19.1</td>\n",
       "    </tr>\n",
       "  </tbody>\n",
       "</table>\n",
       "</div>"
      ]
     },
     "execution_count": 157,
     "metadata": {},
     "output_type": "execute_result"
    }
   ],
   "execution_count": 157
  },
  {
   "metadata": {
    "ExecuteTime": {
     "end_time": "2024-08-14T06:51:12.272609Z",
     "start_time": "2024-08-14T06:51:12.264627Z"
    }
   },
   "cell_type": "code",
   "source": "df.tail()",
   "id": "ad840be9c2e3b5c3",
   "outputs": [
    {
     "data": {
      "text/plain": [
       "       year  rank                company  revenue profit\n",
       "25495  2005   496        Wm. Wrigley Jr.   3648.6    493\n",
       "25496  2005   497         Peabody Energy   3631.6  175.4\n",
       "25497  2005   498  Wendy's International   3630.4   57.8\n",
       "25498  2005   499     Kindred Healthcare   3616.6   70.6\n",
       "25499  2005   500   Cincinnati Financial   3614.0    584"
      ],
      "text/html": [
       "<div>\n",
       "<style scoped>\n",
       "    .dataframe tbody tr th:only-of-type {\n",
       "        vertical-align: middle;\n",
       "    }\n",
       "\n",
       "    .dataframe tbody tr th {\n",
       "        vertical-align: top;\n",
       "    }\n",
       "\n",
       "    .dataframe thead th {\n",
       "        text-align: right;\n",
       "    }\n",
       "</style>\n",
       "<table border=\"1\" class=\"dataframe\">\n",
       "  <thead>\n",
       "    <tr style=\"text-align: right;\">\n",
       "      <th></th>\n",
       "      <th>year</th>\n",
       "      <th>rank</th>\n",
       "      <th>company</th>\n",
       "      <th>revenue</th>\n",
       "      <th>profit</th>\n",
       "    </tr>\n",
       "  </thead>\n",
       "  <tbody>\n",
       "    <tr>\n",
       "      <th>25495</th>\n",
       "      <td>2005</td>\n",
       "      <td>496</td>\n",
       "      <td>Wm. Wrigley Jr.</td>\n",
       "      <td>3648.6</td>\n",
       "      <td>493</td>\n",
       "    </tr>\n",
       "    <tr>\n",
       "      <th>25496</th>\n",
       "      <td>2005</td>\n",
       "      <td>497</td>\n",
       "      <td>Peabody Energy</td>\n",
       "      <td>3631.6</td>\n",
       "      <td>175.4</td>\n",
       "    </tr>\n",
       "    <tr>\n",
       "      <th>25497</th>\n",
       "      <td>2005</td>\n",
       "      <td>498</td>\n",
       "      <td>Wendy's International</td>\n",
       "      <td>3630.4</td>\n",
       "      <td>57.8</td>\n",
       "    </tr>\n",
       "    <tr>\n",
       "      <th>25498</th>\n",
       "      <td>2005</td>\n",
       "      <td>499</td>\n",
       "      <td>Kindred Healthcare</td>\n",
       "      <td>3616.6</td>\n",
       "      <td>70.6</td>\n",
       "    </tr>\n",
       "    <tr>\n",
       "      <th>25499</th>\n",
       "      <td>2005</td>\n",
       "      <td>500</td>\n",
       "      <td>Cincinnati Financial</td>\n",
       "      <td>3614.0</td>\n",
       "      <td>584</td>\n",
       "    </tr>\n",
       "  </tbody>\n",
       "</table>\n",
       "</div>"
      ]
     },
     "execution_count": 158,
     "metadata": {},
     "output_type": "execute_result"
    }
   ],
   "execution_count": 158
  },
  {
   "metadata": {},
   "cell_type": "markdown",
   "source": "Run some tests om the data ",
   "id": "3b99cd2c5ce61546"
  },
  {
   "metadata": {
    "ExecuteTime": {
     "end_time": "2024-08-14T06:51:12.279540Z",
     "start_time": "2024-08-14T06:51:12.274024Z"
    }
   },
   "cell_type": "code",
   "source": "len(df)",
   "id": "476cd245b2e62b4a",
   "outputs": [
    {
     "data": {
      "text/plain": [
       "25500"
      ]
     },
     "execution_count": 159,
     "metadata": {},
     "output_type": "execute_result"
    }
   ],
   "execution_count": 159
  },
  {
   "metadata": {
    "ExecuteTime": {
     "end_time": "2024-08-14T06:51:12.288539Z",
     "start_time": "2024-08-14T06:51:12.280549Z"
    }
   },
   "cell_type": "code",
   "source": "df.dtypes",
   "id": "c069eded4bb18197",
   "outputs": [
    {
     "data": {
      "text/plain": [
       "year         int64\n",
       "rank         int64\n",
       "company     object\n",
       "revenue    float64\n",
       "profit      object\n",
       "dtype: object"
      ]
     },
     "execution_count": 160,
     "metadata": {},
     "output_type": "execute_result"
    }
   ],
   "execution_count": 160
  },
  {
   "metadata": {},
   "cell_type": "markdown",
   "source": [
    "## Clean the data\n",
    "we can see the profit is defined as an object, we expect it to be a float \n",
    "means we have non-numeric data in there.  Lets look at them "
   ],
   "id": "a29146becfd5e612"
  },
  {
   "metadata": {
    "ExecuteTime": {
     "end_time": "2024-08-14T06:51:12.311017Z",
     "start_time": "2024-08-14T06:51:12.290255Z"
    }
   },
   "cell_type": "code",
   "source": [
    "non_numeric_profits = df.profit.str.contains('[^0-9.-]')\n",
    "df.loc[non_numeric_profits].head()"
   ],
   "id": "c51dadcab6c72146",
   "outputs": [
    {
     "data": {
      "text/plain": [
       "     year  rank                company  revenue profit\n",
       "228  1955   229                 Norton    135.0   N.A.\n",
       "290  1955   291        Schlitz Brewing    100.0   N.A.\n",
       "294  1955   295  Pacific Vegetable Oil     97.9   N.A.\n",
       "296  1955   297     Liebmann Breweries     96.0   N.A.\n",
       "352  1955   353     Minneapolis-Moline     77.4   N.A."
      ],
      "text/html": [
       "<div>\n",
       "<style scoped>\n",
       "    .dataframe tbody tr th:only-of-type {\n",
       "        vertical-align: middle;\n",
       "    }\n",
       "\n",
       "    .dataframe tbody tr th {\n",
       "        vertical-align: top;\n",
       "    }\n",
       "\n",
       "    .dataframe thead th {\n",
       "        text-align: right;\n",
       "    }\n",
       "</style>\n",
       "<table border=\"1\" class=\"dataframe\">\n",
       "  <thead>\n",
       "    <tr style=\"text-align: right;\">\n",
       "      <th></th>\n",
       "      <th>year</th>\n",
       "      <th>rank</th>\n",
       "      <th>company</th>\n",
       "      <th>revenue</th>\n",
       "      <th>profit</th>\n",
       "    </tr>\n",
       "  </thead>\n",
       "  <tbody>\n",
       "    <tr>\n",
       "      <th>228</th>\n",
       "      <td>1955</td>\n",
       "      <td>229</td>\n",
       "      <td>Norton</td>\n",
       "      <td>135.0</td>\n",
       "      <td>N.A.</td>\n",
       "    </tr>\n",
       "    <tr>\n",
       "      <th>290</th>\n",
       "      <td>1955</td>\n",
       "      <td>291</td>\n",
       "      <td>Schlitz Brewing</td>\n",
       "      <td>100.0</td>\n",
       "      <td>N.A.</td>\n",
       "    </tr>\n",
       "    <tr>\n",
       "      <th>294</th>\n",
       "      <td>1955</td>\n",
       "      <td>295</td>\n",
       "      <td>Pacific Vegetable Oil</td>\n",
       "      <td>97.9</td>\n",
       "      <td>N.A.</td>\n",
       "    </tr>\n",
       "    <tr>\n",
       "      <th>296</th>\n",
       "      <td>1955</td>\n",
       "      <td>297</td>\n",
       "      <td>Liebmann Breweries</td>\n",
       "      <td>96.0</td>\n",
       "      <td>N.A.</td>\n",
       "    </tr>\n",
       "    <tr>\n",
       "      <th>352</th>\n",
       "      <td>1955</td>\n",
       "      <td>353</td>\n",
       "      <td>Minneapolis-Moline</td>\n",
       "      <td>77.4</td>\n",
       "      <td>N.A.</td>\n",
       "    </tr>\n",
       "  </tbody>\n",
       "</table>\n",
       "</div>"
      ]
     },
     "execution_count": 161,
     "metadata": {},
     "output_type": "execute_result"
    }
   ],
   "execution_count": 161
  },
  {
   "metadata": {},
   "cell_type": "markdown",
   "source": "Check how many of them are non-numeric",
   "id": "9932fa9cb44f8d0d"
  },
  {
   "metadata": {
    "ExecuteTime": {
     "end_time": "2024-08-14T06:51:12.318231Z",
     "start_time": "2024-08-14T06:51:12.312715Z"
    }
   },
   "cell_type": "code",
   "source": "len(df[non_numeric_profits])",
   "id": "5e974e2918c708f9",
   "outputs": [
    {
     "data": {
      "text/plain": [
       "369"
      ]
     },
     "execution_count": 162,
     "metadata": {},
     "output_type": "execute_result"
    }
   ],
   "execution_count": 162
  },
  {
   "metadata": {},
   "cell_type": "markdown",
   "source": "Check histogram of the distribution of the N.As",
   "id": "b577ee28f1c5e43f"
  },
  {
   "metadata": {
    "ExecuteTime": {
     "end_time": "2024-08-14T06:51:12.563230Z",
     "start_time": "2024-08-14T06:51:12.319326Z"
    }
   },
   "cell_type": "code",
   "source": "bin_sizes, _, _ = plt.hist(df.year[non_numeric_profits], bins=range(1955, 2006))",
   "id": "6d7d3f5f0b17f651",
   "outputs": [
    {
     "data": {
      "text/plain": [
       "<Figure size 640x480 with 1 Axes>"
      ],
      "image/png": "[encoded data removed]"
     },
     "metadata": {},
     "output_type": "display_data"
    }
   ],
   "execution_count": 163
  },
  {
   "metadata": {},
   "cell_type": "markdown",
   "source": "Remove all the rows with non-numeric data in them",
   "id": "f0238795b6ab9cf"
  },
  {
   "metadata": {
    "ExecuteTime": {
     "end_time": "2024-08-14T06:51:12.809360Z",
     "start_time": "2024-08-14T06:51:12.566409Z"
    }
   },
   "cell_type": "code",
   "source": [
    "# loc locates rows from within a data set\n",
    "df = df.loc[~non_numeric_profits]\n",
    "df.profit = df.profit.apply(pd.to_numeric)\n",
    "len(df)\n",
    "df.dtypes"
   ],
   "id": "4cee88f045212fb7",
   "outputs": [
    {
     "data": {
      "text/plain": [
       "year         int64\n",
       "rank         int64\n",
       "company     object\n",
       "revenue    float64\n",
       "profit     float64\n",
       "dtype: object"
      ]
     },
     "execution_count": 164,
     "metadata": {},
     "output_type": "execute_result"
    }
   ],
   "execution_count": 164
  },
  {
   "metadata": {},
   "cell_type": "markdown",
   "source": [
    "Data is now all clean.\n",
    "\n",
    "## Plot the data"
   ],
   "id": "f77fe4fd922e0899"
  },
  {
   "metadata": {
    "ExecuteTime": {
     "end_time": "2024-08-14T06:51:12.819290Z",
     "start_time": "2024-08-14T06:51:12.810848Z"
    }
   },
   "cell_type": "code",
   "source": [
    "group_by_year = df.loc[:, ['year', 'revenue', 'profit']].groupby('year')\n",
    "avgs = group_by_year.mean()\n",
    "x = avgs.index\n",
    "y = avgs.profit\n",
    "def plot(x, y, ax, title, y_label):\n",
    "    ax.set_title(title)\n",
    "    ax.set_ylabel(y_label)\n",
    "    ax.plot(x, y)\n",
    "    ax.margins(x=0, y=0)"
   ],
   "id": "5fa7931b02f8207f",
   "outputs": [],
   "execution_count": 165
  },
  {
   "metadata": {
    "ExecuteTime": {
     "end_time": "2024-08-14T06:51:13.030721Z",
     "start_time": "2024-08-14T06:51:12.820661Z"
    }
   },
   "cell_type": "code",
   "source": [
    "fig, ax = plt.subplots()\n",
    "plot(x, y, ax, \"Increase in mean company profits\", \"Profit (m)\")"
   ],
   "id": "f5f5f7ff1aa09c6",
   "outputs": [
    {
     "data": {
      "text/plain": [
       "<Figure size 640x480 with 1 Axes>"
      ],
      "image/png": "[encoded data removed]"
     },
     "metadata": {},
     "output_type": "display_data"
    }
   ],
   "execution_count": 166
  },
  {
   "metadata": {
    "ExecuteTime": {
     "end_time": "2024-08-14T06:51:13.210128Z",
     "start_time": "2024-08-14T06:51:13.031908Z"
    }
   },
   "cell_type": "code",
   "source": [
    "y2 = avgs.revenue\n",
    "fig2, ax = plt.subplots()\n",
    "plot(x, y2, ax, \"Increase in revenues\", \"Revenue (m)\")"
   ],
   "id": "377a3b9724efd254",
   "outputs": [
    {
     "data": {
      "text/plain": [
       "<Figure size 640x480 with 1 Axes>"
      ],
      "image/png": "[encoded data removed]"
     },
     "metadata": {},
     "output_type": "display_data"
    }
   ],
   "execution_count": 167
  }
 ],
 "metadata": {
  "kernelspec": {
   "display_name": "Python 3",
   "language": "python",
   "name": "python3"
  },
  "language_info": {
   "codemirror_mode": {
    "name": "ipython",
    "version": 2
   },
   "file_extension": ".py",
   "mimetype": "text/x-python",
   "name": "python",
   "nbconvert_exporter": "python",
   "pygments_lexer": "ipython2",
   "version": "2.7.6"
  }
 },
 "nbformat": 4,
 "nbformat_minor": 5
}
